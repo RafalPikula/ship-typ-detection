{
 "cells": [
  {
   "cell_type": "code",
   "execution_count": 1,
   "metadata": {},
   "outputs": [
    {
     "name": "stderr",
     "output_type": "stream",
     "text": [
      "Using TensorFlow backend.\n"
     ]
    }
   ],
   "source": [
    "import numpy as np\n",
    "import pandas as pd\n",
    "\n",
    "import matplotlib.pyplot as plt\n",
    "import skimage\n",
    "\n",
    "from sklearn.utils import shuffle\n",
    "from sklearn.model_selection import train_test_split\n",
    "\n",
    "from keras.applications.vgg16 import preprocess_input"
   ]
  },
  {
   "cell_type": "code",
   "execution_count": 2,
   "metadata": {},
   "outputs": [],
   "source": [
    "RANDOM_STATE = 7532\n",
    "PHOTO_DIR = 'data/images/'"
   ]
  },
  {
   "cell_type": "code",
   "execution_count": 3,
   "metadata": {},
   "outputs": [],
   "source": [
    "train_data = pd.read_csv('data/train.csv')\n",
    "test_data = pd.read_csv('data/test.csv')\n",
    "\n",
    "sample_submission = pd.read_csv('data/sample_submission.csv')"
   ]
  },
  {
   "cell_type": "markdown",
   "metadata": {},
   "source": [
    "First, let's have a look at our data frames"
   ]
  },
  {
   "cell_type": "code",
   "execution_count": 4,
   "metadata": {},
   "outputs": [
    {
     "data": {
      "text/plain": [
       "((6252, 2), (2680, 1), (2680, 2))"
      ]
     },
     "execution_count": 4,
     "metadata": {},
     "output_type": "execute_result"
    }
   ],
   "source": [
    "train_data.shape, test_data.shape, sample_submission.shape"
   ]
  },
  {
   "cell_type": "code",
   "execution_count": 5,
   "metadata": {},
   "outputs": [
    {
     "name": "stdout",
     "output_type": "stream",
     "text": [
      "<class 'pandas.core.frame.DataFrame'>\n",
      "RangeIndex: 6252 entries, 0 to 6251\n",
      "Data columns (total 2 columns):\n",
      "image       6252 non-null object\n",
      "category    6252 non-null int64\n",
      "dtypes: int64(1), object(1)\n",
      "memory usage: 97.8+ KB\n"
     ]
    }
   ],
   "source": [
    "train_data.info()"
   ]
  },
  {
   "cell_type": "code",
   "execution_count": 6,
   "metadata": {},
   "outputs": [
    {
     "data": {
      "text/html": [
       "<div>\n",
       "<style scoped>\n",
       "    .dataframe tbody tr th:only-of-type {\n",
       "        vertical-align: middle;\n",
       "    }\n",
       "\n",
       "    .dataframe tbody tr th {\n",
       "        vertical-align: top;\n",
       "    }\n",
       "\n",
       "    .dataframe thead th {\n",
       "        text-align: right;\n",
       "    }\n",
       "</style>\n",
       "<table border=\"1\" class=\"dataframe\">\n",
       "  <thead>\n",
       "    <tr style=\"text-align: right;\">\n",
       "      <th></th>\n",
       "      <th>image</th>\n",
       "      <th>category</th>\n",
       "    </tr>\n",
       "  </thead>\n",
       "  <tbody>\n",
       "    <tr>\n",
       "      <th>0</th>\n",
       "      <td>2823080.jpg</td>\n",
       "      <td>1</td>\n",
       "    </tr>\n",
       "    <tr>\n",
       "      <th>1</th>\n",
       "      <td>2870024.jpg</td>\n",
       "      <td>1</td>\n",
       "    </tr>\n",
       "    <tr>\n",
       "      <th>2</th>\n",
       "      <td>2662125.jpg</td>\n",
       "      <td>2</td>\n",
       "    </tr>\n",
       "    <tr>\n",
       "      <th>3</th>\n",
       "      <td>2900420.jpg</td>\n",
       "      <td>3</td>\n",
       "    </tr>\n",
       "    <tr>\n",
       "      <th>4</th>\n",
       "      <td>2804883.jpg</td>\n",
       "      <td>2</td>\n",
       "    </tr>\n",
       "  </tbody>\n",
       "</table>\n",
       "</div>"
      ],
      "text/plain": [
       "         image  category\n",
       "0  2823080.jpg         1\n",
       "1  2870024.jpg         1\n",
       "2  2662125.jpg         2\n",
       "3  2900420.jpg         3\n",
       "4  2804883.jpg         2"
      ]
     },
     "execution_count": 6,
     "metadata": {},
     "output_type": "execute_result"
    }
   ],
   "source": [
    "train_data.head()"
   ]
  },
  {
   "cell_type": "markdown",
   "metadata": {},
   "source": [
    "Below, we can see that the data distribution is not balanced across the 5 classes. This issue will be addressed at the later stage via assigning appropriate class weights."
   ]
  },
  {
   "cell_type": "code",
   "execution_count": 7,
   "metadata": {},
   "outputs": [
    {
     "data": {
      "text/plain": [
       "1    2120\n",
       "5    1217\n",
       "2    1167\n",
       "3     916\n",
       "4     832\n",
       "Name: category, dtype: int64"
      ]
     },
     "execution_count": 7,
     "metadata": {},
     "output_type": "execute_result"
    }
   ],
   "source": [
    "train_data['category'].value_counts()"
   ]
  },
  {
   "cell_type": "code",
   "execution_count": 8,
   "metadata": {},
   "outputs": [],
   "source": [
    "y = train_data['category']"
   ]
  },
  {
   "cell_type": "markdown",
   "metadata": {},
   "source": [
    "Now, let's split the train data into the train set (75%) and the validation set (25%)."
   ]
  },
  {
   "cell_type": "code",
   "execution_count": 9,
   "metadata": {},
   "outputs": [],
   "source": [
    "train_set, valid_set, _, _ = train_test_split(train_data, y, test_size=0.25, random_state=RANDOM_STATE, \n",
    "                                              shuffle=True, stratify=y)\n",
    "\n",
    "test_set = test_data"
   ]
  },
  {
   "cell_type": "code",
   "execution_count": 10,
   "metadata": {},
   "outputs": [
    {
     "data": {
      "text/plain": [
       "1    1590\n",
       "5     913\n",
       "2     875\n",
       "3     687\n",
       "4     624\n",
       "Name: category, dtype: int64"
      ]
     },
     "execution_count": 10,
     "metadata": {},
     "output_type": "execute_result"
    }
   ],
   "source": [
    "train_set['category'].value_counts()"
   ]
  },
  {
   "cell_type": "code",
   "execution_count": 11,
   "metadata": {},
   "outputs": [
    {
     "data": {
      "text/plain": [
       "1    530\n",
       "5    304\n",
       "2    292\n",
       "3    229\n",
       "4    208\n",
       "Name: category, dtype: int64"
      ]
     },
     "execution_count": 11,
     "metadata": {},
     "output_type": "execute_result"
    }
   ],
   "source": [
    "valid_set['category'].value_counts()"
   ]
  },
  {
   "cell_type": "markdown",
   "metadata": {},
   "source": [
    "Adjust the pictures so that they have the same size and the same dimensions."
   ]
  },
  {
   "cell_type": "code",
   "execution_count": 12,
   "metadata": {},
   "outputs": [],
   "source": [
    "def convert_to_3D(img):\n",
    "    \"\"\"Converts a 2D image to a 3D image.\"\"\"\n",
    "    \n",
    "    img_3D = np.zeros((img.shape[0], img.shape[1], 3), dtype=np.float32)       \n",
    "    img_3D[:,:,0], img_3D[:,:,1], img_3D[:,:,2] = img, img, img\n",
    "    \n",
    "    return img_3D \n",
    "\n",
    "\n",
    "NEW_WIDTH = 256\n",
    "NEW_HEIGHT = 384\n",
    "\n",
    "def homogenize_images(img_path_series, img_dir=PHOTO_DIR, new_width=NEW_WIDTH, new_height=NEW_HEIGHT):\n",
    "    \"\"\"Resizes images to new_width and new_height, converts 2D images to 3D images, \n",
    "       creates and returns an array of homogenized 3D images, and retuns 2D image count.\"\"\"\n",
    "    \n",
    "    #index = 0\n",
    "    count_2D = 0\n",
    "    \n",
    "    homogenized_image_array = []\n",
    "    \n",
    "    for img_name in img_path_series:        \n",
    "        img = plt.imread(img_dir + img_name)\n",
    "        \n",
    "        if (img.shape[0] == new_width) and (img.shape[1] == new_height):\n",
    "            img = (img / 255.0).astype(np.float32)\n",
    "        else:\n",
    "            # The resize function returns a float64 representation of an image\n",
    "            img = skimage.transform.resize(img, (new_width, new_height), \n",
    "                                           order=3, mode='reflect', \n",
    "                                           anti_aliasing=True).astype(np.float32)\n",
    "        \n",
    "        #new_img_name = img_name[:-4] + '_HMGD' + img_name[-4:]\n",
    "        \n",
    "        # Turn 2D images into 3D images\n",
    "        if img.ndim == 2:            \n",
    "            img = convert_to_3D(img)           \n",
    "            count_2D += 1\n",
    "        \n",
    "        #plt.imsave(img_dir + new_img_name, img_3D)\n",
    "        #img_path_series[index] = new_img_name\n",
    "        \n",
    "        #index += 1\n",
    "        \n",
    "        homogenized_image_array.append(img)\n",
    "    \n",
    "    homogenized_image_array = np.array(homogenized_image_array)\n",
    "        \n",
    "    return homogenized_image_array , count_2D"
   ]
  },
  {
   "cell_type": "code",
   "execution_count": 13,
   "metadata": {},
   "outputs": [
    {
     "name": "stdout",
     "output_type": "stream",
     "text": [
      "Train set:\n",
      "Number of 2D photos converted to 3D: 77\n",
      "\n",
      "Validation set:\n",
      "Number of 2D photos converted to 3D: 27\n",
      "\n",
      "Test set:\n",
      "Number of 2D photos converted to 3D: 50\n",
      "\n",
      "Wall time: 13min 58s\n"
     ]
    }
   ],
   "source": [
    "%%time\n",
    "train_set_hmgd, count_2D = homogenize_images(train_set['image'])\n",
    "print('Train set:')\n",
    "print(f'Number of 2D photos converted to 3D: {count_2D}')\n",
    "np.save('train_set_hmgd_arr_256_384.npy', train_set_hmgd)\n",
    "\n",
    "# free up memory\n",
    "del train_set_hmgd\n",
    "print()\n",
    "\n",
    "\n",
    "valid_set_hmgd, count_2D = homogenize_images(valid_set['image'])\n",
    "print('Validation set:')\n",
    "print(f'Number of 2D photos converted to 3D: {count_2D}')\n",
    "np.save('valid_set_hmgd_arr_256_384.npy', valid_set_hmgd)\n",
    "\n",
    "# free up memory\n",
    "del valid_set_hmgd\n",
    "print()\n",
    "\n",
    "\n",
    "test_set_hmgd, count_2D = homogenize_images(test_set['image'])\n",
    "print('Test set:')\n",
    "print(f'Number of 2D photos converted to 3D: {count_2D}')\n",
    "np.save('test_set_hmgd_arr_256_384.npy', test_set_hmgd)\n",
    "\n",
    "# free up memory\n",
    "del test_set_hmgd\n",
    "print()"
   ]
  },
  {
   "cell_type": "markdown",
   "metadata": {},
   "source": [
    "Apply input preprocessing suitable for VGG16."
   ]
  },
  {
   "cell_type": "code",
   "execution_count": 14,
   "metadata": {},
   "outputs": [],
   "source": [
    "X_train = np.load('train_set_hmgd_arr_256_384.npy')\n",
    "tmp = preprocess_input(X_train * 255)\n",
    "tmp = tmp[:, :, :, ::-1]\n",
    "np.save('train_set_hmgd_arr_256_384_VGG16.npy', tmp)\n",
    "\n",
    "# free up memory\n",
    "del X_train\n",
    "del tmp\n",
    "\n",
    "\n",
    "X_valid = np.load('valid_set_hmgd_arr_256_384.npy')\n",
    "tmp = preprocess_input(X_valid * 255)\n",
    "tmp = tmp[:, :, :, ::-1]\n",
    "np.save('valid_set_hmgd_arr_256_384_VGG16.npy', tmp)\n",
    "\n",
    "# free up memory\n",
    "del X_valid\n",
    "del tmp\n",
    "\n",
    "\n",
    "X_test = np.load('test_set_hmgd_arr_256_384.npy')\n",
    "tmp = preprocess_input(X_test * 255)\n",
    "tmp = tmp[:, :, :, ::-1]\n",
    "np.save('test_set_hmgd_arr_256_384_VGG16.npy', tmp)\n",
    "\n",
    "# free up memory\n",
    "del X_test\n",
    "del tmp"
   ]
  },
  {
   "cell_type": "markdown",
   "metadata": {},
   "source": [
    "Save the metadata."
   ]
  },
  {
   "cell_type": "code",
   "execution_count": 15,
   "metadata": {},
   "outputs": [],
   "source": [
    "train_set.to_csv('train_set_metadata.csv', index=False)\n",
    "valid_set.to_csv('valid_set_metadata.csv', index=False)\n",
    "test_set.to_csv('test_set_metadata.csv', index=False)"
   ]
  },
  {
   "cell_type": "code",
   "execution_count": null,
   "metadata": {},
   "outputs": [],
   "source": []
  }
 ],
 "metadata": {
  "kernelspec": {
   "display_name": "Python 3",
   "language": "python",
   "name": "python3"
  },
  "language_info": {
   "codemirror_mode": {
    "name": "ipython",
    "version": 3
   },
   "file_extension": ".py",
   "mimetype": "text/x-python",
   "name": "python",
   "nbconvert_exporter": "python",
   "pygments_lexer": "ipython3",
   "version": "3.7.3"
  }
 },
 "nbformat": 4,
 "nbformat_minor": 2
}
